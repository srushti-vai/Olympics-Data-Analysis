{
 "cells": [
  {
   "cell_type": "markdown",
   "id": "be02a957-7133-4d02-818e-fedeb3cecb05",
   "metadata": {},
   "source": [
    "# Olypics Data Analysis\n",
    "## CS 176 Project"
   ]
  },
  {
   "cell_type": "markdown",
   "id": "a1228853-dd19-4ab2-89e0-0394d7d72de3",
   "metadata": {},
   "source": [
    "By: Srushti Vaidyanathan (vaidyan4@purdue.edu), Paige Burke (burke231@purdue.edu), Brooklyn Fugate (fugate11@purdue.edu)"
   ]
  },
  {
   "cell_type": "markdown",
   "id": "6180e742-8e39-4698-98ff-5b00c8cf8ea0",
   "metadata": {},
   "source": [
    "## Set Up"
   ]
  },
  {
   "cell_type": "code",
   "execution_count": 70,
   "id": "49445606-d363-41b4-b479-e319a9a84c01",
   "metadata": {},
   "outputs": [],
   "source": [
    "# importing pandas as pd, matplotlib as plt, and numpy as np\n",
    "import pandas as pd\n",
    "import matplotlib.pyplot as plt\n",
    "import numpy as np\n",
    "\n",
    "# read datasets from their csv files to the dataframe\n",
    "athletes_df = pd.read_csv('olympic_atheletes_history_biometrics_data.csv')\n",
    "summer_df = pd.read_csv('summer_olympics_medals_data.csv')\n",
    "winter_df = pd.read_csv('winter_olympics_medals_data.csv')"
   ]
  },
  {
   "cell_type": "code",
   "execution_count": 71,
   "metadata": {},
   "outputs": [
    {
     "data": {
      "text/html": [
       "<div>\n",
       "<style scoped>\n",
       "    .dataframe tbody tr th:only-of-type {\n",
       "        vertical-align: middle;\n",
       "    }\n",
       "\n",
       "    .dataframe tbody tr th {\n",
       "        vertical-align: top;\n",
       "    }\n",
       "\n",
       "    .dataframe thead th {\n",
       "        text-align: right;\n",
       "    }\n",
       "</style>\n",
       "<table border=\"1\" class=\"dataframe\">\n",
       "  <thead>\n",
       "    <tr style=\"text-align: right;\">\n",
       "      <th></th>\n",
       "      <th>ID</th>\n",
       "      <th>ATHLETE_NAME</th>\n",
       "      <th>SEX</th>\n",
       "      <th>AGE</th>\n",
       "      <th>HEIGHT</th>\n",
       "      <th>WEIGHT</th>\n",
       "      <th>NOC</th>\n",
       "      <th>TEAM</th>\n",
       "      <th>Unnamed: 8</th>\n",
       "    </tr>\n",
       "  </thead>\n",
       "  <tbody>\n",
       "    <tr>\n",
       "      <th>0</th>\n",
       "      <td>1</td>\n",
       "      <td>A Dijiang</td>\n",
       "      <td>M</td>\n",
       "      <td>24.0</td>\n",
       "      <td>180.0</td>\n",
       "      <td>80.0</td>\n",
       "      <td>CHN</td>\n",
       "      <td>China</td>\n",
       "      <td>NaN</td>\n",
       "    </tr>\n",
       "    <tr>\n",
       "      <th>1</th>\n",
       "      <td>2</td>\n",
       "      <td>A Lamusi</td>\n",
       "      <td>M</td>\n",
       "      <td>23.0</td>\n",
       "      <td>170.0</td>\n",
       "      <td>60.0</td>\n",
       "      <td>CHN</td>\n",
       "      <td>China</td>\n",
       "      <td>NaN</td>\n",
       "    </tr>\n",
       "    <tr>\n",
       "      <th>2</th>\n",
       "      <td>3</td>\n",
       "      <td>Gunnar Nielsen Aaby</td>\n",
       "      <td>M</td>\n",
       "      <td>24.0</td>\n",
       "      <td>NaN</td>\n",
       "      <td>NaN</td>\n",
       "      <td>DEN</td>\n",
       "      <td>Denmark</td>\n",
       "      <td>NaN</td>\n",
       "    </tr>\n",
       "    <tr>\n",
       "      <th>3</th>\n",
       "      <td>4</td>\n",
       "      <td>Edgar Lindenau Aabye</td>\n",
       "      <td>M</td>\n",
       "      <td>34.0</td>\n",
       "      <td>NaN</td>\n",
       "      <td>NaN</td>\n",
       "      <td>DEN</td>\n",
       "      <td>Denmark</td>\n",
       "      <td>NaN</td>\n",
       "    </tr>\n",
       "    <tr>\n",
       "      <th>4</th>\n",
       "      <td>5</td>\n",
       "      <td>Christine Jacoba Aaftink</td>\n",
       "      <td>F</td>\n",
       "      <td>21.0</td>\n",
       "      <td>185.0</td>\n",
       "      <td>82.0</td>\n",
       "      <td>NED</td>\n",
       "      <td>Netherlands</td>\n",
       "      <td>NaN</td>\n",
       "    </tr>\n",
       "  </tbody>\n",
       "</table>\n",
       "</div>"
      ],
      "text/plain": [
       "   ID              ATHLETE_NAME SEX   AGE  HEIGHT  WEIGHT  NOC         TEAM  \\\n",
       "0   1                 A Dijiang   M  24.0   180.0    80.0  CHN        China   \n",
       "1   2                  A Lamusi   M  23.0   170.0    60.0  CHN        China   \n",
       "2   3       Gunnar Nielsen Aaby   M  24.0     NaN     NaN  DEN      Denmark   \n",
       "3   4      Edgar Lindenau Aabye   M  34.0     NaN     NaN  DEN      Denmark   \n",
       "4   5  Christine Jacoba Aaftink   F  21.0   185.0    82.0  NED  Netherlands   \n",
       "\n",
       "   Unnamed: 8  \n",
       "0         NaN  \n",
       "1         NaN  \n",
       "2         NaN  \n",
       "3         NaN  \n",
       "4         NaN  "
      ]
     },
     "execution_count": 71,
     "metadata": {},
     "output_type": "execute_result"
    }
   ],
   "source": [
    "athletes_df.head(5)"
   ]
  },
  {
   "cell_type": "code",
   "execution_count": 72,
   "metadata": {},
   "outputs": [
    {
     "data": {
      "text/html": [
       "<div>\n",
       "<style scoped>\n",
       "    .dataframe tbody tr th:only-of-type {\n",
       "        vertical-align: middle;\n",
       "    }\n",
       "\n",
       "    .dataframe tbody tr th {\n",
       "        vertical-align: top;\n",
       "    }\n",
       "\n",
       "    .dataframe thead th {\n",
       "        text-align: right;\n",
       "    }\n",
       "</style>\n",
       "<table border=\"1\" class=\"dataframe\">\n",
       "  <thead>\n",
       "    <tr style=\"text-align: right;\">\n",
       "      <th></th>\n",
       "      <th>Year</th>\n",
       "      <th>Name</th>\n",
       "      <th>Games</th>\n",
       "      <th>City</th>\n",
       "      <th>Sport</th>\n",
       "      <th>Event</th>\n",
       "      <th>Medal</th>\n",
       "    </tr>\n",
       "  </thead>\n",
       "  <tbody>\n",
       "    <tr>\n",
       "      <th>0</th>\n",
       "      <td>1896</td>\n",
       "      <td>Aristidis Akratopoulos</td>\n",
       "      <td>1896 Summer</td>\n",
       "      <td>Athina</td>\n",
       "      <td>Tennis</td>\n",
       "      <td>Tennis Men's Singles</td>\n",
       "      <td>NaN</td>\n",
       "    </tr>\n",
       "    <tr>\n",
       "      <th>1</th>\n",
       "      <td>1896</td>\n",
       "      <td>Aristidis Akratopoulos</td>\n",
       "      <td>1896 Summer</td>\n",
       "      <td>Athina</td>\n",
       "      <td>Tennis</td>\n",
       "      <td>Tennis Men's Doubles</td>\n",
       "      <td>NaN</td>\n",
       "    </tr>\n",
       "    <tr>\n",
       "      <th>2</th>\n",
       "      <td>1896</td>\n",
       "      <td>Konstantinos Akratopoulos</td>\n",
       "      <td>1896 Summer</td>\n",
       "      <td>Athina</td>\n",
       "      <td>Tennis</td>\n",
       "      <td>Tennis Men's Singles</td>\n",
       "      <td>NaN</td>\n",
       "    </tr>\n",
       "    <tr>\n",
       "      <th>3</th>\n",
       "      <td>1896</td>\n",
       "      <td>Konstantinos Akratopoulos</td>\n",
       "      <td>1896 Summer</td>\n",
       "      <td>Athina</td>\n",
       "      <td>Tennis</td>\n",
       "      <td>Tennis Men's Doubles</td>\n",
       "      <td>NaN</td>\n",
       "    </tr>\n",
       "    <tr>\n",
       "      <th>4</th>\n",
       "      <td>1896</td>\n",
       "      <td>Anastasios Andreou</td>\n",
       "      <td>1896 Summer</td>\n",
       "      <td>Athina</td>\n",
       "      <td>Athletics</td>\n",
       "      <td>Athletics Men's 110 metres Hurdles</td>\n",
       "      <td>NaN</td>\n",
       "    </tr>\n",
       "  </tbody>\n",
       "</table>\n",
       "</div>"
      ],
      "text/plain": [
       "   Year                       Name        Games    City      Sport  \\\n",
       "0  1896     Aristidis Akratopoulos  1896 Summer  Athina     Tennis   \n",
       "1  1896     Aristidis Akratopoulos  1896 Summer  Athina     Tennis   \n",
       "2  1896  Konstantinos Akratopoulos  1896 Summer  Athina     Tennis   \n",
       "3  1896  Konstantinos Akratopoulos  1896 Summer  Athina     Tennis   \n",
       "4  1896         Anastasios Andreou  1896 Summer  Athina  Athletics   \n",
       "\n",
       "                                Event Medal  \n",
       "0                Tennis Men's Singles   NaN  \n",
       "1                Tennis Men's Doubles   NaN  \n",
       "2                Tennis Men's Singles   NaN  \n",
       "3                Tennis Men's Doubles   NaN  \n",
       "4  Athletics Men's 110 metres Hurdles   NaN  "
      ]
     },
     "execution_count": 72,
     "metadata": {},
     "output_type": "execute_result"
    }
   ],
   "source": [
    "summer_df.head(5)"
   ]
  },
  {
   "cell_type": "code",
   "execution_count": 73,
   "metadata": {},
   "outputs": [
    {
     "data": {
      "text/html": [
       "<div>\n",
       "<style scoped>\n",
       "    .dataframe tbody tr th:only-of-type {\n",
       "        vertical-align: middle;\n",
       "    }\n",
       "\n",
       "    .dataframe tbody tr th {\n",
       "        vertical-align: top;\n",
       "    }\n",
       "\n",
       "    .dataframe thead th {\n",
       "        text-align: right;\n",
       "    }\n",
       "</style>\n",
       "<table border=\"1\" class=\"dataframe\">\n",
       "  <thead>\n",
       "    <tr style=\"text-align: right;\">\n",
       "      <th></th>\n",
       "      <th>Year</th>\n",
       "      <th>Name</th>\n",
       "      <th>Games</th>\n",
       "      <th>City</th>\n",
       "      <th>Sport</th>\n",
       "      <th>Event</th>\n",
       "      <th>Medal</th>\n",
       "    </tr>\n",
       "  </thead>\n",
       "  <tbody>\n",
       "    <tr>\n",
       "      <th>0</th>\n",
       "      <td>1924</td>\n",
       "      <td>Clarence John Abel</td>\n",
       "      <td>1924 Winter</td>\n",
       "      <td>Chamonix</td>\n",
       "      <td>Ice Hockey</td>\n",
       "      <td>Ice Hockey Men's Ice Hockey</td>\n",
       "      <td>Silver</td>\n",
       "    </tr>\n",
       "    <tr>\n",
       "      <th>1</th>\n",
       "      <td>1924</td>\n",
       "      <td>Josef Adolf</td>\n",
       "      <td>1924 Winter</td>\n",
       "      <td>Chamonix</td>\n",
       "      <td>Nordic Combined</td>\n",
       "      <td>Nordic Combined Men's Individual</td>\n",
       "      <td>NaN</td>\n",
       "    </tr>\n",
       "    <tr>\n",
       "      <th>2</th>\n",
       "      <td>1924</td>\n",
       "      <td>Xavier Affentranger</td>\n",
       "      <td>1924 Winter</td>\n",
       "      <td>Chamonix</td>\n",
       "      <td>Ski Jumping</td>\n",
       "      <td>Ski Jumping Men's Normal Hill, Individual</td>\n",
       "      <td>NaN</td>\n",
       "    </tr>\n",
       "    <tr>\n",
       "      <th>3</th>\n",
       "      <td>1924</td>\n",
       "      <td>Xavier Affentranger</td>\n",
       "      <td>1924 Winter</td>\n",
       "      <td>Chamonix</td>\n",
       "      <td>Cross Country Skiing</td>\n",
       "      <td>Cross Country Skiing Men's 18 kilometres</td>\n",
       "      <td>NaN</td>\n",
       "    </tr>\n",
       "    <tr>\n",
       "      <th>4</th>\n",
       "      <td>1924</td>\n",
       "      <td>Xavier Affentranger</td>\n",
       "      <td>1924 Winter</td>\n",
       "      <td>Chamonix</td>\n",
       "      <td>Nordic Combined</td>\n",
       "      <td>Nordic Combined Men's Individual</td>\n",
       "      <td>NaN</td>\n",
       "    </tr>\n",
       "  </tbody>\n",
       "</table>\n",
       "</div>"
      ],
      "text/plain": [
       "   Year                 Name        Games      City                 Sport  \\\n",
       "0  1924   Clarence John Abel  1924 Winter  Chamonix            Ice Hockey   \n",
       "1  1924          Josef Adolf  1924 Winter  Chamonix       Nordic Combined   \n",
       "2  1924  Xavier Affentranger  1924 Winter  Chamonix           Ski Jumping   \n",
       "3  1924  Xavier Affentranger  1924 Winter  Chamonix  Cross Country Skiing   \n",
       "4  1924  Xavier Affentranger  1924 Winter  Chamonix       Nordic Combined   \n",
       "\n",
       "                                       Event   Medal  \n",
       "0                Ice Hockey Men's Ice Hockey  Silver  \n",
       "1           Nordic Combined Men's Individual     NaN  \n",
       "2  Ski Jumping Men's Normal Hill, Individual     NaN  \n",
       "3   Cross Country Skiing Men's 18 kilometres     NaN  \n",
       "4           Nordic Combined Men's Individual     NaN  "
      ]
     },
     "execution_count": 73,
     "metadata": {},
     "output_type": "execute_result"
    }
   ],
   "source": [
    "winter_df.head(5)"
   ]
  },
  {
   "cell_type": "markdown",
   "id": "fc601975-35ed-4680-a4e1-0273ee3cc047",
   "metadata": {},
   "source": [
    "## Cleaning"
   ]
  },
  {
   "cell_type": "markdown",
   "metadata": {},
   "source": [
    "A MAJORITY OF THE CLEANING IS ALSO DONE THROUGHOUT THE OTHER STEPS"
   ]
  },
  {
   "cell_type": "code",
   "execution_count": 74,
   "id": "a16336a1-1ef0-41e8-bc7c-49387db27497",
   "metadata": {},
   "outputs": [],
   "source": [
    "# deleting this column as it was empty and was just an extra comma in the csv\n",
    "del athletes_df['Unnamed: 8']"
   ]
  },
  {
   "cell_type": "code",
   "execution_count": 75,
   "metadata": {},
   "outputs": [],
   "source": [
    "# standardizing to date time format for all the dfs\n",
    "winter_df['Year'] = pd.to_datetime(winter_df['Year'], format='%Y')\n",
    "summer_df['Year'] = pd.to_datetime(summer_df['Year'], format='%Y')\n",
    "\n",
    "winter_df['Year'] = winter_df['Year'].dt.strftime('%Y')\n",
    "summer_df['Year'] = summer_df['Year'].dt.strftime('%Y')"
   ]
  },
  {
   "cell_type": "code",
   "execution_count": 76,
   "metadata": {},
   "outputs": [],
   "source": [
    "\n",
    "# drops any duplicate values from the dfs and only keeps the first value\n",
    "winter_df = winter_df.drop_duplicates(keep='first')\n",
    "summer_df = summer_df.drop_duplicates(keep='first')\n",
    "athletes_df = athletes_df.drop_duplicates(keep='first')"
   ]
  },
  {
   "cell_type": "markdown",
   "id": "14dc22d4-ddc3-41cc-a91a-cb0025bc0c80",
   "metadata": {},
   "source": [
    "Markdown notes and sentences and analysis written here."
   ]
  },
  {
   "cell_type": "markdown",
   "id": "8e586edd-ff26-4ce2-8f6b-2424b26f2929",
   "metadata": {},
   "source": [
    "## Filtering"
   ]
  },
  {
   "cell_type": "code",
   "execution_count": null,
   "id": "bbe0f40d-9655-4653-9ca8-886bdb61cb91",
   "metadata": {},
   "outputs": [],
   "source": [
    "# code here"
   ]
  },
  {
   "cell_type": "markdown",
   "id": "47c6229f-35f7-400c-8366-c442baa5cf47",
   "metadata": {},
   "source": [
    "Markdown notes and sentences and analysis written here."
   ]
  },
  {
   "cell_type": "markdown",
   "id": "da22f29c-d245-4d2b-9fc1-ca14cb6087d9",
   "metadata": {},
   "source": [
    "## Sorting"
   ]
  },
  {
   "cell_type": "code",
   "execution_count": null,
   "id": "8cffc767-d1c8-4d64-b7dc-f0d2ee8a80d1",
   "metadata": {},
   "outputs": [],
   "source": [
    "# code here"
   ]
  },
  {
   "cell_type": "markdown",
   "id": "0d552245-b4d6-474a-9cc9-fa7b8e674d55",
   "metadata": {},
   "source": [
    "Markdown notes and sentences and analysis written here."
   ]
  },
  {
   "cell_type": "markdown",
   "id": "88c9cdac-3e92-498f-83fa-e089bfc44ac8",
   "metadata": {},
   "source": [
    "## Merging"
   ]
  },
  {
   "cell_type": "code",
   "execution_count": 77,
   "metadata": {},
   "outputs": [
    {
     "data": {
      "text/html": [
       "<div>\n",
       "<style scoped>\n",
       "    .dataframe tbody tr th:only-of-type {\n",
       "        vertical-align: middle;\n",
       "    }\n",
       "\n",
       "    .dataframe tbody tr th {\n",
       "        vertical-align: top;\n",
       "    }\n",
       "\n",
       "    .dataframe thead th {\n",
       "        text-align: right;\n",
       "    }\n",
       "</style>\n",
       "<table border=\"1\" class=\"dataframe\">\n",
       "  <thead>\n",
       "    <tr style=\"text-align: right;\">\n",
       "      <th></th>\n",
       "      <th>Year</th>\n",
       "      <th>Name</th>\n",
       "      <th>Games</th>\n",
       "      <th>City</th>\n",
       "      <th>Sport</th>\n",
       "      <th>Event</th>\n",
       "      <th>Medal</th>\n",
       "    </tr>\n",
       "  </thead>\n",
       "  <tbody>\n",
       "    <tr>\n",
       "      <th>0</th>\n",
       "      <td>1924</td>\n",
       "      <td>Clarence John Abel</td>\n",
       "      <td>1924 Winter</td>\n",
       "      <td>Chamonix</td>\n",
       "      <td>Ice Hockey</td>\n",
       "      <td>Ice Hockey Men's Ice Hockey</td>\n",
       "      <td>Silver</td>\n",
       "    </tr>\n",
       "    <tr>\n",
       "      <th>1</th>\n",
       "      <td>1924</td>\n",
       "      <td>Josef Adolf</td>\n",
       "      <td>1924 Winter</td>\n",
       "      <td>Chamonix</td>\n",
       "      <td>Nordic Combined</td>\n",
       "      <td>Nordic Combined Men's Individual</td>\n",
       "      <td>NaN</td>\n",
       "    </tr>\n",
       "    <tr>\n",
       "      <th>2</th>\n",
       "      <td>1924</td>\n",
       "      <td>Xavier Affentranger</td>\n",
       "      <td>1924 Winter</td>\n",
       "      <td>Chamonix</td>\n",
       "      <td>Ski Jumping</td>\n",
       "      <td>Ski Jumping Men's Normal Hill, Individual</td>\n",
       "      <td>NaN</td>\n",
       "    </tr>\n",
       "    <tr>\n",
       "      <th>3</th>\n",
       "      <td>1924</td>\n",
       "      <td>Xavier Affentranger</td>\n",
       "      <td>1924 Winter</td>\n",
       "      <td>Chamonix</td>\n",
       "      <td>Cross Country Skiing</td>\n",
       "      <td>Cross Country Skiing Men's 18 kilometres</td>\n",
       "      <td>NaN</td>\n",
       "    </tr>\n",
       "    <tr>\n",
       "      <th>4</th>\n",
       "      <td>1924</td>\n",
       "      <td>Xavier Affentranger</td>\n",
       "      <td>1924 Winter</td>\n",
       "      <td>Chamonix</td>\n",
       "      <td>Nordic Combined</td>\n",
       "      <td>Nordic Combined Men's Individual</td>\n",
       "      <td>NaN</td>\n",
       "    </tr>\n",
       "  </tbody>\n",
       "</table>\n",
       "</div>"
      ],
      "text/plain": [
       "   Year                 Name        Games      City                 Sport  \\\n",
       "0  1924   Clarence John Abel  1924 Winter  Chamonix            Ice Hockey   \n",
       "1  1924          Josef Adolf  1924 Winter  Chamonix       Nordic Combined   \n",
       "2  1924  Xavier Affentranger  1924 Winter  Chamonix           Ski Jumping   \n",
       "3  1924  Xavier Affentranger  1924 Winter  Chamonix  Cross Country Skiing   \n",
       "4  1924  Xavier Affentranger  1924 Winter  Chamonix       Nordic Combined   \n",
       "\n",
       "                                       Event   Medal  \n",
       "0                Ice Hockey Men's Ice Hockey  Silver  \n",
       "1           Nordic Combined Men's Individual     NaN  \n",
       "2  Ski Jumping Men's Normal Hill, Individual     NaN  \n",
       "3   Cross Country Skiing Men's 18 kilometres     NaN  \n",
       "4           Nordic Combined Men's Individual     NaN  "
      ]
     },
     "execution_count": 77,
     "metadata": {},
     "output_type": "execute_result"
    }
   ],
   "source": [
    "# merging the winter_df with summer_df\n",
    "all_seasons_df = pd.merge(winter_df, summer_df, on=['Year', 'Name', 'Games', 'City', 'Sport', 'Event', 'Medal'], how='outer')\n",
    "\n",
    "all_seasons_df.head(5)"
   ]
  },
  {
   "cell_type": "code",
   "execution_count": 78,
   "id": "d370d7c9-06db-42b9-b75f-240481a5c491",
   "metadata": {},
   "outputs": [],
   "source": [
    "# Merging all three data sets into a total data set\n",
    "# Cleaning height, weight, and age of total_df by stack and sorting\n",
    "# by gender and sport, then imputing, to get similar data to fill in the NA values\n",
    "\n",
    "# first merges the athletes df with winter df\n",
    "total_df = pd.merge(athletes_df, all_seasons_df, left_on='ATHLETE_NAME', right_on='Name')\n",
    "total_df = total_df.drop('Name', axis=1)\n"
   ]
  },
  {
   "cell_type": "markdown",
   "id": "9fbf00fb-2418-460f-ae94-2a32b0c28952",
   "metadata": {},
   "source": [
    "Markdown notes and sentences and analysis written here."
   ]
  },
  {
   "cell_type": "markdown",
   "metadata": {},
   "source": [
    "## Visualizations"
   ]
  },
  {
   "cell_type": "code",
   "execution_count": null,
   "metadata": {},
   "outputs": [],
   "source": [
    "# code here"
   ]
  },
  {
   "cell_type": "markdown",
   "metadata": {},
   "source": [
    "Markdown notes and sentences and analysis written here."
   ]
  },
  {
   "cell_type": "markdown",
   "metadata": {},
   "source": [
    "## Pivoting and Stacking"
   ]
  },
  {
   "cell_type": "code",
   "execution_count": null,
   "metadata": {},
   "outputs": [],
   "source": [
    "# code here"
   ]
  },
  {
   "cell_type": "markdown",
   "metadata": {},
   "source": [
    "Markdown notes and sentences and analysis written here."
   ]
  }
 ],
 "metadata": {
  "kernelspec": {
   "display_name": "Python 3",
   "language": "python",
   "name": "python3"
  },
  "language_info": {
   "codemirror_mode": {
    "name": "ipython",
    "version": 3
   },
   "file_extension": ".py",
   "mimetype": "text/x-python",
   "name": "python",
   "nbconvert_exporter": "python",
   "pygments_lexer": "ipython3",
   "version": "3.10.11"
  }
 },
 "nbformat": 4,
 "nbformat_minor": 5
}
